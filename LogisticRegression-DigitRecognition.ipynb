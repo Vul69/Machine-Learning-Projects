{
 "cells": [
  {
   "cell_type": "markdown",
   "metadata": {},
   "source": [
    "# Logistic Regression for Handwritten Digit Recognition"
   ]
  },
  {
   "cell_type": "markdown",
   "metadata": {},
   "source": [
    "In this mini-project, multiclass logistic regression will be used to predict the digit (0-9) based on a binary image of a handwritten number within the same range. The MNIST dataset has been used for this exercise and is great for learning about using machine learning for pattern recognition from images. \n",
    "\n",
    "The objective of this excercise is to build on the previous mini-projects to implement (a) multiclass logistic regression and (b) include regularization in to the model.\n",
    "\n",
    "In my previous mini-projects I have implemented the machine learning algorithms from scratch in order to make sure I fully understand the mathematical theory behind the algorithms. However, I appreciate that when implementing machine learning in practice, it will be more efficient to use sci-kit learn. Therefore, in the second part of this exercise I will implement the logistic regression algorithm using the sci-kit learn toolbox in Python.    "
   ]
  },
  {
   "cell_type": "code",
   "execution_count": 2,
   "metadata": {
    "collapsed": true
   },
   "outputs": [],
   "source": [
    "import numpy as np\n",
    "import pandas as pd\n",
    "import matplotlib.pyplot as plt\n",
    "import seaborn as sns\n",
    "from sklearn.datasets import fetch_mldata\n",
    "import random as rd\n",
    "\n",
    "mnist = fetch_mldata('MNIST original')\n",
    "%matplotlib inline"
   ]
  },
  {
   "cell_type": "markdown",
   "metadata": {},
   "source": [
    "## Exploratory Data Analysis"
   ]
  },
  {
   "cell_type": "code",
   "execution_count": 3,
   "metadata": {},
   "outputs": [
    {
     "name": "stdout",
     "output_type": "stream",
     "text": [
      "Image Data Shape (70000, 784)\n",
      "Label Data Shape (70000,)\n"
     ]
    }
   ],
   "source": [
    "# Checking dimensions of the MNIST dataset\n",
    "print(\"Image Data Shape\" , mnist.data.shape)\n",
    "print(\"Label Data Shape\", mnist.target.shape)"
   ]
  },
  {
   "cell_type": "markdown",
   "metadata": {},
   "source": [
    "This shows that the dataset contains 70,000 sample images and that the number of features in each sample image (i.e. number of pixels) is 784 which corresponds to a 28x28 square array.\n",
    "\n",
    "The figure below shows five randomly selected images from the data set."
   ]
  },
  {
   "cell_type": "code",
   "execution_count": 4,
   "metadata": {},
   "outputs": [
    {
     "data": {
      "image/png": "[encoded data removed]",
      "text/plain": [
       "<matplotlib.figure.Figure at 0x1668a53c9b0>"
      ]
     },
     "metadata": {},
     "output_type": "display_data"
    }
   ],
   "source": [
    "im_list = rd.sample(range(0,len(mnist.data)),5)\n",
    "\n",
    "plt.figure(figsize=(20,4))\n",
    "for index, (image, label) in enumerate(zip(mnist.data[im_list], mnist.target[im_list])):\n",
    "    plt.subplot(1, 5, index + 1)\n",
    "    plt.imshow(np.reshape(image, (28,28)), cmap=plt.cm.gray)\n",
    "    plt.title('Image label: %i\\n' % label, fontsize = 20)\n",
    "\n",
    "filename = 'Digits.png'\n",
    "plt.savefig(filename, transparent=False, dpi=200, bbox_inches=\"tight\")"
   ]
  },
  {
   "cell_type": "markdown",
   "metadata": {},
   "source": [
    "# Implementing Logistic Regression from Scratch"
   ]
  },
  {
   "cell_type": "markdown",
   "metadata": {},
   "source": [
    "In the sections that follow, the multiclass logistic regression algorithm has been implemented from scratch. Firstly, the data set is divided in to a training set and a testing set in a 80% to 20% ratio. Secondly, the regularized logistic multiclass logistic regression model has been trained on the training set. Finally, the model has been used to predict the target values for the test sample and the accuracy has been quantified."
   ]
  },
  {
   "cell_type": "markdown",
   "metadata": {},
   "source": [
    "## Training the Classification Model"
   ]
  },
  {
   "cell_type": "code",
   "execution_count": 5,
   "metadata": {},
   "outputs": [
    {
     "name": "stdout",
     "output_type": "stream",
     "text": [
      "(70000, 785)\n",
      "(70000,)\n"
     ]
    }
   ],
   "source": [
    "# Feature variable matrix (X)\n",
    "X = mnist.data\n",
    "\n",
    "# Add ones for the bias term\n",
    "bias = np.ones((len(X),1))\n",
    "X = np.concatenate((bias, X), axis = 1)\n",
    "\n",
    "# Target variable vector (y)\n",
    "y = mnist.target\n",
    "\n",
    "print(X.shape)\n",
    "print(y.shape)"
   ]
  },
  {
   "cell_type": "code",
   "execution_count": 6,
   "metadata": {},
   "outputs": [
    {
     "name": "stdout",
     "output_type": "stream",
     "text": [
      "(56000, 785)\n",
      "(14000, 785)\n",
      "(56000,)\n",
      "(14000,)\n"
     ]
    }
   ],
   "source": [
    "# Partioning into Training and Test Data\n",
    "indices = np.random.permutation(X.shape[0])\n",
    "pctg = round(0.8*len(X))\n",
    "training_idx, test_idx = indices[:pctg], indices[pctg:]\n",
    "X_trn, X_tst = X[training_idx,:], X[test_idx,:]\n",
    "y_trn, y_tst = y[training_idx], y[test_idx]\n",
    "\n",
    "print(X_trn.shape)\n",
    "print(X_tst.shape)\n",
    "print(y_trn.shape)\n",
    "print(y_tst.shape)"
   ]
  },
  {
   "cell_type": "code",
   "execution_count": 6,
   "metadata": {
    "collapsed": true
   },
   "outputs": [],
   "source": [
    "# Sigmoid function\n",
    "def sigmoid(X, theta):\n",
    "    \n",
    "    z = np.dot(X, theta)\n",
    "    h = 1 / (1 + np.exp(-z))\n",
    "    \n",
    "    return h"
   ]
  },
  {
   "cell_type": "code",
   "execution_count": 7,
   "metadata": {
    "collapsed": true
   },
   "outputs": [],
   "source": [
    "# Loss function\n",
    "def loss(h, c, lm, theta):\n",
    "    \n",
    "    m = len(y)\n",
    "    \n",
    "    J = (1/m)*np.sum(-c * np.log(h) - (1-c) * np.log(1 - h)) + (lm/(2*m))*np.sum(np.square(theta))\n",
    "\n",
    "    return J"
   ]
  },
  {
   "cell_type": "code",
   "execution_count": 9,
   "metadata": {
    "scrolled": true
   },
   "outputs": [
    {
     "data": {
      "text/plain": [
       "[<matplotlib.lines.Line2D at 0x23a5f92d5c0>]"
      ]
     },
     "execution_count": 9,
     "metadata": {},
     "output_type": "execute_result"
    },
    {
     "data": {
      "image/png": "[encoded data removed]",
      "text/plain": [
       "<matplotlib.figure.Figure at 0x23a57f97630>"
      ]
     },
     "metadata": {},
     "output_type": "display_data"
    }
   ],
   "source": [
    "# Check convergence of model\n",
    "plt.plot(J_hist)"
   ]
  },
  {
   "cell_type": "code",
   "execution_count": 12,
   "metadata": {
    "collapsed": true
   },
   "outputs": [],
   "source": [
    "# Gradient Descent \n",
    "lr = 0.00001 # learning rate\n",
    "num_iter = 100 # number of iterations in training the model\n",
    "lm = 0.1 # regularization parameter\n",
    "num_class = 10 # number of classes (models) to train\n",
    "\n",
    "theta_reg = np.zeros((X.shape[1], num_class))\n",
    "\n",
    "for k in range(num_class):\n",
    "\n",
    "    c = (y_trn == k) * 1\n",
    "\n",
    "    J_hist = []\n",
    "\n",
    "    for i in range(num_iter):\n",
    "\n",
    "        grad = np.zeros((X_trn.shape[1]))\n",
    "        h = sigmoid(X_trn, theta_reg[:,k])\n",
    "        J = loss(h, c, 0.1, theta_reg[:,k])\n",
    "        J_hist.append(J)\n",
    "        grad[0] = (1/c.shape[0])*np.dot(X_trn[:,0].T, h-c)\n",
    "        grad[1:] = (1/c.shape[0])*np.dot(X_trn[:,1:].T, h-c) + (lm/c.shape[0])*theta_reg[1:,k]\n",
    "        theta_reg[:,k] -= lr*grad"
   ]
  },
  {
   "cell_type": "code",
   "execution_count": 13,
   "metadata": {},
   "outputs": [
    {
     "data": {
      "text/plain": [
       "[<matplotlib.lines.Line2D at 0x23a15061518>]"
      ]
     },
     "execution_count": 13,
     "metadata": {},
     "output_type": "execute_result"
    },
    {
     "data": {
      "image/png": "[encoded data removed]",
      "text/plain": [
       "<matplotlib.figure.Figure at 0x23a14fa7e10>"
      ]
     },
     "metadata": {},
     "output_type": "display_data"
    }
   ],
   "source": [
    "# Check convergence of model\n",
    "plt.plot(J_hist)"
   ]
  },
  {
   "cell_type": "markdown",
   "metadata": {},
   "source": [
    "## Making the Prediction"
   ]
  },
  {
   "cell_type": "code",
   "execution_count": 14,
   "metadata": {},
   "outputs": [
    {
     "name": "stdout",
     "output_type": "stream",
     "text": [
      "Accuracy: 88.56 %\n",
      "Accuracy (Regularized): 88.56 %\n"
     ]
    }
   ],
   "source": [
    "# Predict Values and Validate the Models\n",
    "h_pred = sigmoid(X_tst,theta).argmax(axis=1)\n",
    "h_pred_reg = sigmoid(X_tst, theta_reg).argmax(axis=1)\n",
    "print('Accuracy:', np.round(100*np.mean((y_tst == h_pred_reg) * 1),2), '%')"
   ]
  },
  {
   "cell_type": "markdown",
   "metadata": {},
   "source": [
    "# Implementing the Logistic Regression using Scikit Learn"
   ]
  },
  {
   "cell_type": "markdown",
   "metadata": {},
   "source": [
    "In the sections that follow, the steps of the logistic regression model shown above will be implemented using the scikit-learn toolkit in Python.  "
   ]
  },
  {
   "cell_type": "code",
   "execution_count": 8,
   "metadata": {},
   "outputs": [
    {
     "name": "stdout",
     "output_type": "stream",
     "text": [
      "(56000, 784)\n",
      "(56000,)\n",
      "(14000, 784)\n",
      "(14000,)\n"
     ]
    }
   ],
   "source": [
    "# Partition into training and test sets\n",
    "from sklearn.model_selection import train_test_split\n",
    "train_img, test_img, train_lbl, test_lbl = train_test_split(\n",
    "    mnist.data, mnist.target, test_size=.2, random_state=0)\n",
    "\n",
    "print(train_img.shape)\n",
    "print(train_lbl.shape)\n",
    "print(test_img.shape)\n",
    "print(test_lbl.shape)"
   ]
  },
  {
   "cell_type": "code",
   "execution_count": 11,
   "metadata": {
    "collapsed": true
   },
   "outputs": [],
   "source": [
    "# Import the Logistic Regression class and make an instance of the model\n",
    "from sklearn.linear_model import LogisticRegression\n",
    "logisticRegr = LogisticRegression()"
   ]
  },
  {
   "cell_type": "code",
   "execution_count": 12,
   "metadata": {},
   "outputs": [
    {
     "data": {
      "text/plain": [
       "LogisticRegression(C=1.0, class_weight=None, dual=False, fit_intercept=True,\n",
       "          intercept_scaling=1, max_iter=100, multi_class='ovr', n_jobs=1,\n",
       "          penalty='l2', random_state=None, solver='liblinear', tol=0.0001,\n",
       "          verbose=0, warm_start=False)"
      ]
     },
     "execution_count": 12,
     "metadata": {},
     "output_type": "execute_result"
    }
   ],
   "source": [
    "# Train the model on the training set\n",
    "logisticRegr.fit(train_img, train_lbl)"
   ]
  },
  {
   "cell_type": "code",
   "execution_count": 14,
   "metadata": {},
   "outputs": [
    {
     "name": "stdout",
     "output_type": "stream",
     "text": [
      "Accuracy: 91.0 %\n"
     ]
    }
   ],
   "source": [
    "# Make predictions on the testing set and measure the accuracy\n",
    "predictions = logisticRegr.predict(test_img)\n",
    "accuracy = logisticRegr.score(test_img, test_lbl)\n",
    "print('Accuracy:', np.round(100*accuracy), '%')"
   ]
  },
  {
   "cell_type": "code",
   "execution_count": null,
   "metadata": {
    "collapsed": true
   },
   "outputs": [],
   "source": []
  }
 ],
 "metadata": {
  "kernelspec": {
   "display_name": "Python 3",
   "language": "python",
   "name": "python3"
  },
  "language_info": {
   "codemirror_mode": {
    "name": "ipython",
    "version": 3
   },
   "file_extension": ".py",
   "mimetype": "text/x-python",
   "name": "python",
   "nbconvert_exporter": "python",
   "pygments_lexer": "ipython3",
   "version": "3.6.3"
  }
 },
 "nbformat": 4,
 "nbformat_minor": 2
}
